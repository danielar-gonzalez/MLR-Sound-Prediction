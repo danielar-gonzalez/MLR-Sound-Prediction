{
  "nbformat": 4,
  "nbformat_minor": 0,
  "metadata": {
    "colab": {
      "provenance": []
    },
    "kernelspec": {
      "name": "python3",
      "display_name": "Python 3"
    },
    "language_info": {
      "name": "python"
    }
  },
  "cells": [
    {
      "cell_type": "markdown",
      "source": [
        "# **MLR-Sound-Prediction**"
      ],
      "metadata": {
        "id": "nJY0WfKbRdyK"
      }
    },
    {
      "cell_type": "markdown",
      "source": [
        "###Regina González"
      ],
      "metadata": {
        "id": "-AgOsq5qxGn9"
      }
    },
    {
      "cell_type": "markdown",
      "source": [
        "Se importaron los datos del archivo \"data.csv\" al ambiente de trabajo, para después imprimir las dimensiones de éste... Igualmente, se imprime un resumen de las primeras 15 filas de datos."
      ],
      "metadata": {
        "id": "n7M5tFekKGq1"
      }
    },
    {
      "cell_type": "code",
      "source": [
        "import pandas as pd\n",
        "data = pd.read_csv('data.csv')\n",
        "print(f\"✅ Datos cargados: {data.shape[0]} filas, {data.shape[1]} columnas.\\n\")\n",
        "print(\"🔍 Primeras 15 filas:\")\n",
        "display(data.head(15))"
      ],
      "metadata": {
        "colab": {
          "base_uri": "https://localhost:8080/",
          "height": 572
        },
        "id": "Hjczd2vZKFhk",
        "outputId": "31f99eaa-1828-427d-b115-897046b0c24a"
      },
      "execution_count": 1,
      "outputs": [
        {
          "output_type": "stream",
          "name": "stdout",
          "text": [
            "✅ Datos cargados: 1503 filas, 6 columnas.\n",
            "\n",
            "🔍 Primeras 15 filas:\n"
          ]
        },
        {
          "output_type": "display_data",
          "data": {
            "text/plain": [
              "    frecuencia  angulo  longitud  velocidad   espesor  presion\n",
              "0          800     0.0    0.3048       71.3  0.002663  126.201\n",
              "1         1000     0.0    0.3048       71.3  0.002663  125.201\n",
              "2         1250     0.0    0.3048       71.3  0.002663  125.951\n",
              "3         1600     0.0    0.3048       71.3  0.002663  127.591\n",
              "4         2000     0.0    0.3048       71.3  0.002663  127.461\n",
              "5         2500     0.0    0.3048       71.3  0.002663  125.571\n",
              "6         3150     0.0    0.3048       71.3  0.002663  125.201\n",
              "7         4000     0.0    0.3048       71.3  0.002663  123.061\n",
              "8         5000     0.0    0.3048       71.3  0.002663  121.301\n",
              "9         6300     0.0    0.3048       71.3  0.002663  119.541\n",
              "10        8000     0.0    0.3048       71.3  0.002663  117.151\n",
              "11       10000     0.0    0.3048       71.3  0.002663  115.391\n",
              "12       12500     0.0    0.3048       71.3  0.002663  112.241\n",
              "13       16000     0.0    0.3048       71.3  0.002663  108.721\n",
              "14         500     0.0    0.3048       55.5  0.002831  126.416"
            ],
            "text/html": [
              "\n",
              "  <div id=\"df-eb0f8deb-fe46-4997-89f9-8c65585b7897\" class=\"colab-df-container\">\n",
              "    <div>\n",
              "<style scoped>\n",
              "    .dataframe tbody tr th:only-of-type {\n",
              "        vertical-align: middle;\n",
              "    }\n",
              "\n",
              "    .dataframe tbody tr th {\n",
              "        vertical-align: top;\n",
              "    }\n",
              "\n",
              "    .dataframe thead th {\n",
              "        text-align: right;\n",
              "    }\n",
              "</style>\n",
              "<table border=\"1\" class=\"dataframe\">\n",
              "  <thead>\n",
              "    <tr style=\"text-align: right;\">\n",
              "      <th></th>\n",
              "      <th>frecuencia</th>\n",
              "      <th>angulo</th>\n",
              "      <th>longitud</th>\n",
              "      <th>velocidad</th>\n",
              "      <th>espesor</th>\n",
              "      <th>presion</th>\n",
              "    </tr>\n",
              "  </thead>\n",
              "  <tbody>\n",
              "    <tr>\n",
              "      <th>0</th>\n",
              "      <td>800</td>\n",
              "      <td>0.0</td>\n",
              "      <td>0.3048</td>\n",
              "      <td>71.3</td>\n",
              "      <td>0.002663</td>\n",
              "      <td>126.201</td>\n",
              "    </tr>\n",
              "    <tr>\n",
              "      <th>1</th>\n",
              "      <td>1000</td>\n",
              "      <td>0.0</td>\n",
              "      <td>0.3048</td>\n",
              "      <td>71.3</td>\n",
              "      <td>0.002663</td>\n",
              "      <td>125.201</td>\n",
              "    </tr>\n",
              "    <tr>\n",
              "      <th>2</th>\n",
              "      <td>1250</td>\n",
              "      <td>0.0</td>\n",
              "      <td>0.3048</td>\n",
              "      <td>71.3</td>\n",
              "      <td>0.002663</td>\n",
              "      <td>125.951</td>\n",
              "    </tr>\n",
              "    <tr>\n",
              "      <th>3</th>\n",
              "      <td>1600</td>\n",
              "      <td>0.0</td>\n",
              "      <td>0.3048</td>\n",
              "      <td>71.3</td>\n",
              "      <td>0.002663</td>\n",
              "      <td>127.591</td>\n",
              "    </tr>\n",
              "    <tr>\n",
              "      <th>4</th>\n",
              "      <td>2000</td>\n",
              "      <td>0.0</td>\n",
              "      <td>0.3048</td>\n",
              "      <td>71.3</td>\n",
              "      <td>0.002663</td>\n",
              "      <td>127.461</td>\n",
              "    </tr>\n",
              "    <tr>\n",
              "      <th>5</th>\n",
              "      <td>2500</td>\n",
              "      <td>0.0</td>\n",
              "      <td>0.3048</td>\n",
              "      <td>71.3</td>\n",
              "      <td>0.002663</td>\n",
              "      <td>125.571</td>\n",
              "    </tr>\n",
              "    <tr>\n",
              "      <th>6</th>\n",
              "      <td>3150</td>\n",
              "      <td>0.0</td>\n",
              "      <td>0.3048</td>\n",
              "      <td>71.3</td>\n",
              "      <td>0.002663</td>\n",
              "      <td>125.201</td>\n",
              "    </tr>\n",
              "    <tr>\n",
              "      <th>7</th>\n",
              "      <td>4000</td>\n",
              "      <td>0.0</td>\n",
              "      <td>0.3048</td>\n",
              "      <td>71.3</td>\n",
              "      <td>0.002663</td>\n",
              "      <td>123.061</td>\n",
              "    </tr>\n",
              "    <tr>\n",
              "      <th>8</th>\n",
              "      <td>5000</td>\n",
              "      <td>0.0</td>\n",
              "      <td>0.3048</td>\n",
              "      <td>71.3</td>\n",
              "      <td>0.002663</td>\n",
              "      <td>121.301</td>\n",
              "    </tr>\n",
              "    <tr>\n",
              "      <th>9</th>\n",
              "      <td>6300</td>\n",
              "      <td>0.0</td>\n",
              "      <td>0.3048</td>\n",
              "      <td>71.3</td>\n",
              "      <td>0.002663</td>\n",
              "      <td>119.541</td>\n",
              "    </tr>\n",
              "    <tr>\n",
              "      <th>10</th>\n",
              "      <td>8000</td>\n",
              "      <td>0.0</td>\n",
              "      <td>0.3048</td>\n",
              "      <td>71.3</td>\n",
              "      <td>0.002663</td>\n",
              "      <td>117.151</td>\n",
              "    </tr>\n",
              "    <tr>\n",
              "      <th>11</th>\n",
              "      <td>10000</td>\n",
              "      <td>0.0</td>\n",
              "      <td>0.3048</td>\n",
              "      <td>71.3</td>\n",
              "      <td>0.002663</td>\n",
              "      <td>115.391</td>\n",
              "    </tr>\n",
              "    <tr>\n",
              "      <th>12</th>\n",
              "      <td>12500</td>\n",
              "      <td>0.0</td>\n",
              "      <td>0.3048</td>\n",
              "      <td>71.3</td>\n",
              "      <td>0.002663</td>\n",
              "      <td>112.241</td>\n",
              "    </tr>\n",
              "    <tr>\n",
              "      <th>13</th>\n",
              "      <td>16000</td>\n",
              "      <td>0.0</td>\n",
              "      <td>0.3048</td>\n",
              "      <td>71.3</td>\n",
              "      <td>0.002663</td>\n",
              "      <td>108.721</td>\n",
              "    </tr>\n",
              "    <tr>\n",
              "      <th>14</th>\n",
              "      <td>500</td>\n",
              "      <td>0.0</td>\n",
              "      <td>0.3048</td>\n",
              "      <td>55.5</td>\n",
              "      <td>0.002831</td>\n",
              "      <td>126.416</td>\n",
              "    </tr>\n",
              "  </tbody>\n",
              "</table>\n",
              "</div>\n",
              "    <div class=\"colab-df-buttons\">\n",
              "\n",
              "  <div class=\"colab-df-container\">\n",
              "    <button class=\"colab-df-convert\" onclick=\"convertToInteractive('df-eb0f8deb-fe46-4997-89f9-8c65585b7897')\"\n",
              "            title=\"Convert this dataframe to an interactive table.\"\n",
              "            style=\"display:none;\">\n",
              "\n",
              "  <svg xmlns=\"http://www.w3.org/2000/svg\" height=\"24px\" viewBox=\"0 -960 960 960\">\n",
              "    <path d=\"M120-120v-720h720v720H120Zm60-500h600v-160H180v160Zm220 220h160v-160H400v160Zm0 220h160v-160H400v160ZM180-400h160v-160H180v160Zm440 0h160v-160H620v160ZM180-180h160v-160H180v160Zm440 0h160v-160H620v160Z\"/>\n",
              "  </svg>\n",
              "    </button>\n",
              "\n",
              "  <style>\n",
              "    .colab-df-container {\n",
              "      display:flex;\n",
              "      gap: 12px;\n",
              "    }\n",
              "\n",
              "    .colab-df-convert {\n",
              "      background-color: #E8F0FE;\n",
              "      border: none;\n",
              "      border-radius: 50%;\n",
              "      cursor: pointer;\n",
              "      display: none;\n",
              "      fill: #1967D2;\n",
              "      height: 32px;\n",
              "      padding: 0 0 0 0;\n",
              "      width: 32px;\n",
              "    }\n",
              "\n",
              "    .colab-df-convert:hover {\n",
              "      background-color: #E2EBFA;\n",
              "      box-shadow: 0px 1px 2px rgba(60, 64, 67, 0.3), 0px 1px 3px 1px rgba(60, 64, 67, 0.15);\n",
              "      fill: #174EA6;\n",
              "    }\n",
              "\n",
              "    .colab-df-buttons div {\n",
              "      margin-bottom: 4px;\n",
              "    }\n",
              "\n",
              "    [theme=dark] .colab-df-convert {\n",
              "      background-color: #3B4455;\n",
              "      fill: #D2E3FC;\n",
              "    }\n",
              "\n",
              "    [theme=dark] .colab-df-convert:hover {\n",
              "      background-color: #434B5C;\n",
              "      box-shadow: 0px 1px 3px 1px rgba(0, 0, 0, 0.15);\n",
              "      filter: drop-shadow(0px 1px 2px rgba(0, 0, 0, 0.3));\n",
              "      fill: #FFFFFF;\n",
              "    }\n",
              "  </style>\n",
              "\n",
              "    <script>\n",
              "      const buttonEl =\n",
              "        document.querySelector('#df-eb0f8deb-fe46-4997-89f9-8c65585b7897 button.colab-df-convert');\n",
              "      buttonEl.style.display =\n",
              "        google.colab.kernel.accessAllowed ? 'block' : 'none';\n",
              "\n",
              "      async function convertToInteractive(key) {\n",
              "        const element = document.querySelector('#df-eb0f8deb-fe46-4997-89f9-8c65585b7897');\n",
              "        const dataTable =\n",
              "          await google.colab.kernel.invokeFunction('convertToInteractive',\n",
              "                                                    [key], {});\n",
              "        if (!dataTable) return;\n",
              "\n",
              "        const docLinkHtml = 'Like what you see? Visit the ' +\n",
              "          '<a target=\"_blank\" href=https://colab.research.google.com/notebooks/data_table.ipynb>data table notebook</a>'\n",
              "          + ' to learn more about interactive tables.';\n",
              "        element.innerHTML = '';\n",
              "        dataTable['output_type'] = 'display_data';\n",
              "        await google.colab.output.renderOutput(dataTable, element);\n",
              "        const docLink = document.createElement('div');\n",
              "        docLink.innerHTML = docLinkHtml;\n",
              "        element.appendChild(docLink);\n",
              "      }\n",
              "    </script>\n",
              "  </div>\n",
              "\n",
              "\n",
              "<div id=\"df-64475dae-d394-4de5-b617-0f7168412633\">\n",
              "  <button class=\"colab-df-quickchart\" onclick=\"quickchart('df-64475dae-d394-4de5-b617-0f7168412633')\"\n",
              "            title=\"Suggest charts\"\n",
              "            style=\"display:none;\">\n",
              "\n",
              "<svg xmlns=\"http://www.w3.org/2000/svg\" height=\"24px\"viewBox=\"0 0 24 24\"\n",
              "     width=\"24px\">\n",
              "    <g>\n",
              "        <path d=\"M19 3H5c-1.1 0-2 .9-2 2v14c0 1.1.9 2 2 2h14c1.1 0 2-.9 2-2V5c0-1.1-.9-2-2-2zM9 17H7v-7h2v7zm4 0h-2V7h2v10zm4 0h-2v-4h2v4z\"/>\n",
              "    </g>\n",
              "</svg>\n",
              "  </button>\n",
              "\n",
              "<style>\n",
              "  .colab-df-quickchart {\n",
              "      --bg-color: #E8F0FE;\n",
              "      --fill-color: #1967D2;\n",
              "      --hover-bg-color: #E2EBFA;\n",
              "      --hover-fill-color: #174EA6;\n",
              "      --disabled-fill-color: #AAA;\n",
              "      --disabled-bg-color: #DDD;\n",
              "  }\n",
              "\n",
              "  [theme=dark] .colab-df-quickchart {\n",
              "      --bg-color: #3B4455;\n",
              "      --fill-color: #D2E3FC;\n",
              "      --hover-bg-color: #434B5C;\n",
              "      --hover-fill-color: #FFFFFF;\n",
              "      --disabled-bg-color: #3B4455;\n",
              "      --disabled-fill-color: #666;\n",
              "  }\n",
              "\n",
              "  .colab-df-quickchart {\n",
              "    background-color: var(--bg-color);\n",
              "    border: none;\n",
              "    border-radius: 50%;\n",
              "    cursor: pointer;\n",
              "    display: none;\n",
              "    fill: var(--fill-color);\n",
              "    height: 32px;\n",
              "    padding: 0;\n",
              "    width: 32px;\n",
              "  }\n",
              "\n",
              "  .colab-df-quickchart:hover {\n",
              "    background-color: var(--hover-bg-color);\n",
              "    box-shadow: 0 1px 2px rgba(60, 64, 67, 0.3), 0 1px 3px 1px rgba(60, 64, 67, 0.15);\n",
              "    fill: var(--button-hover-fill-color);\n",
              "  }\n",
              "\n",
              "  .colab-df-quickchart-complete:disabled,\n",
              "  .colab-df-quickchart-complete:disabled:hover {\n",
              "    background-color: var(--disabled-bg-color);\n",
              "    fill: var(--disabled-fill-color);\n",
              "    box-shadow: none;\n",
              "  }\n",
              "\n",
              "  .colab-df-spinner {\n",
              "    border: 2px solid var(--fill-color);\n",
              "    border-color: transparent;\n",
              "    border-bottom-color: var(--fill-color);\n",
              "    animation:\n",
              "      spin 1s steps(1) infinite;\n",
              "  }\n",
              "\n",
              "  @keyframes spin {\n",
              "    0% {\n",
              "      border-color: transparent;\n",
              "      border-bottom-color: var(--fill-color);\n",
              "      border-left-color: var(--fill-color);\n",
              "    }\n",
              "    20% {\n",
              "      border-color: transparent;\n",
              "      border-left-color: var(--fill-color);\n",
              "      border-top-color: var(--fill-color);\n",
              "    }\n",
              "    30% {\n",
              "      border-color: transparent;\n",
              "      border-left-color: var(--fill-color);\n",
              "      border-top-color: var(--fill-color);\n",
              "      border-right-color: var(--fill-color);\n",
              "    }\n",
              "    40% {\n",
              "      border-color: transparent;\n",
              "      border-right-color: var(--fill-color);\n",
              "      border-top-color: var(--fill-color);\n",
              "    }\n",
              "    60% {\n",
              "      border-color: transparent;\n",
              "      border-right-color: var(--fill-color);\n",
              "    }\n",
              "    80% {\n",
              "      border-color: transparent;\n",
              "      border-right-color: var(--fill-color);\n",
              "      border-bottom-color: var(--fill-color);\n",
              "    }\n",
              "    90% {\n",
              "      border-color: transparent;\n",
              "      border-bottom-color: var(--fill-color);\n",
              "    }\n",
              "  }\n",
              "</style>\n",
              "\n",
              "  <script>\n",
              "    async function quickchart(key) {\n",
              "      const quickchartButtonEl =\n",
              "        document.querySelector('#' + key + ' button');\n",
              "      quickchartButtonEl.disabled = true;  // To prevent multiple clicks.\n",
              "      quickchartButtonEl.classList.add('colab-df-spinner');\n",
              "      try {\n",
              "        const charts = await google.colab.kernel.invokeFunction(\n",
              "            'suggestCharts', [key], {});\n",
              "      } catch (error) {\n",
              "        console.error('Error during call to suggestCharts:', error);\n",
              "      }\n",
              "      quickchartButtonEl.classList.remove('colab-df-spinner');\n",
              "      quickchartButtonEl.classList.add('colab-df-quickchart-complete');\n",
              "    }\n",
              "    (() => {\n",
              "      let quickchartButtonEl =\n",
              "        document.querySelector('#df-64475dae-d394-4de5-b617-0f7168412633 button');\n",
              "      quickchartButtonEl.style.display =\n",
              "        google.colab.kernel.accessAllowed ? 'block' : 'none';\n",
              "    })();\n",
              "  </script>\n",
              "</div>\n",
              "\n",
              "    </div>\n",
              "  </div>\n"
            ],
            "application/vnd.google.colaboratory.intrinsic+json": {
              "type": "dataframe",
              "summary": "{\n  \"name\": \"display(data\",\n  \"rows\": 15,\n  \"fields\": [\n    {\n      \"column\": \"frecuencia\",\n      \"properties\": {\n        \"dtype\": \"number\",\n        \"std\": 4721,\n        \"min\": 500,\n        \"max\": 16000,\n        \"num_unique_values\": 15,\n        \"samples\": [\n          6300,\n          10000,\n          800\n        ],\n        \"semantic_type\": \"\",\n        \"description\": \"\"\n      }\n    },\n    {\n      \"column\": \"angulo\",\n      \"properties\": {\n        \"dtype\": \"number\",\n        \"std\": 0.0,\n        \"min\": 0.0,\n        \"max\": 0.0,\n        \"num_unique_values\": 1,\n        \"samples\": [\n          0.0\n        ],\n        \"semantic_type\": \"\",\n        \"description\": \"\"\n      }\n    },\n    {\n      \"column\": \"longitud\",\n      \"properties\": {\n        \"dtype\": \"number\",\n        \"std\": 5.745950043620392e-17,\n        \"min\": 0.3048,\n        \"max\": 0.3048,\n        \"num_unique_values\": 1,\n        \"samples\": [\n          0.3048\n        ],\n        \"semantic_type\": \"\",\n        \"description\": \"\"\n      }\n    },\n    {\n      \"column\": \"velocidad\",\n      \"properties\": {\n        \"dtype\": \"number\",\n        \"std\": 4.079542458005145,\n        \"min\": 55.5,\n        \"max\": 71.3,\n        \"num_unique_values\": 2,\n        \"samples\": [\n          55.5\n        ],\n        \"semantic_type\": \"\",\n        \"description\": \"\"\n      }\n    },\n    {\n      \"column\": \"espesor\",\n      \"properties\": {\n        \"dtype\": \"number\",\n        \"std\": 4.323282209926467e-05,\n        \"min\": 0.00266337,\n        \"max\": 0.00283081,\n        \"num_unique_values\": 2,\n        \"samples\": [\n          0.00283081\n        ],\n        \"semantic_type\": \"\",\n        \"description\": \"\"\n      }\n    },\n    {\n      \"column\": \"presion\",\n      \"properties\": {\n        \"dtype\": \"number\",\n        \"std\": 5.933615556423296,\n        \"min\": 108.721,\n        \"max\": 127.591,\n        \"num_unique_values\": 14,\n        \"samples\": [\n          117.151\n        ],\n        \"semantic_type\": \"\",\n        \"description\": \"\"\n      }\n    }\n  ]\n}"
            }
          },
          "metadata": {}
        }
      ]
    },
    {
      "cell_type": "markdown",
      "source": [
        "Se separan los datos para entrenamiento y prueba con una proporción de 70/30, de forma aleatoria. Como en el punto anterior, se imprimen las dimensiones tanto de los datos de entrenamiento como los de prueba y se comprueba si la suma de los datos es la misma que la original."
      ],
      "metadata": {
        "id": "vQlAnsuSKOJ1"
      }
    },
    {
      "cell_type": "code",
      "source": [
        "from sklearn.model_selection import train_test_split\n",
        "\n",
        "train, test = train_test_split(data, test_size=0.3, random_state=42)\n",
        "\n",
        "print(f\"📊 Dimensiones del conjunto de entrenamiento: {train.shape}\")\n",
        "print(f\"📊 Dimensiones del conjunto de validación: {test.shape}\")\n",
        "\n",
        "if train.shape[0] + test.shape[0] == data.shape[0]:\n",
        "    print(\"✅ La división de datos es correcta: la suma coincide con el total de observaciones.\")\n",
        "else:\n",
        "    print(\"⚠️ Advertencia: La suma de los datos de entrenamiento y validación no coincide con el total de observaciones.\")\n"
      ],
      "metadata": {
        "colab": {
          "base_uri": "https://localhost:8080/"
        },
        "id": "6yFFZdWHKRYB",
        "outputId": "bc602f1a-f4d2-45fa-8489-fba017247f57"
      },
      "execution_count": 2,
      "outputs": [
        {
          "output_type": "stream",
          "name": "stdout",
          "text": [
            "📊 Dimensiones del conjunto de entrenamiento: (1052, 6)\n",
            "📊 Dimensiones del conjunto de validación: (451, 6)\n",
            "✅ La división de datos es correcta: la suma coincide con el total de observaciones.\n"
          ]
        }
      ]
    },
    {
      "cell_type": "markdown",
      "source": [
        "Se entrenó un modelo de regresión lineal múltiple que hace que las primeras 5 variables del sistema, intenten predecir la sexta. Se imprime un resumen del modelo donde podemos ver los coeficientes de cada variable y su p-value correspondiente."
      ],
      "metadata": {
        "id": "vbTJKBuwKRzU"
      }
    },
    {
      "cell_type": "code",
      "source": [
        "import statsmodels.api as sm\n",
        "\n",
        "y_train = train['presion']\n",
        "X_train = train.drop(columns=['presion'])\n",
        "X_train = sm.add_constant(X_train)\n",
        "\n",
        "model = sm.OLS(y_train, X_train).fit()\n",
        "\n",
        "print(model.summary())\n",
        "\n",
        "print(\"\\n📊 Valores de p-values:\")\n",
        "for var in ['angulo', 'frecuencia', 'longitud', 'velocidad', 'espesor']:\n",
        "    print(f\"➡️ {var.capitalize()}: {model.pvalues.get(var, 'No disponible')}\")\n",
        "\n"
      ],
      "metadata": {
        "colab": {
          "base_uri": "https://localhost:8080/"
        },
        "id": "D56zL6r4KSYi",
        "outputId": "324ffecf-334a-4eb0-c59a-692146aec94e"
      },
      "execution_count": 3,
      "outputs": [
        {
          "output_type": "stream",
          "name": "stdout",
          "text": [
            "                            OLS Regression Results                            \n",
            "==============================================================================\n",
            "Dep. Variable:                presion   R-squared:                       0.521\n",
            "Model:                            OLS   Adj. R-squared:                  0.519\n",
            "Method:                 Least Squares   F-statistic:                     227.9\n",
            "Date:                Wed, 29 Jan 2025   Prob (F-statistic):          1.38e-164\n",
            "Time:                        19:59:58   Log-Likelihood:                -3138.0\n",
            "No. Observations:                1052   AIC:                             6288.\n",
            "Df Residuals:                    1046   BIC:                             6318.\n",
            "Df Model:                           5                                         \n",
            "Covariance Type:            nonrobust                                         \n",
            "==============================================================================\n",
            "                 coef    std err          t      P>|t|      [0.025      0.975]\n",
            "------------------------------------------------------------------------------\n",
            "const        132.4778      0.651    203.367      0.000     131.200     133.756\n",
            "frecuencia    -0.0013   4.81e-05    -26.457      0.000      -0.001      -0.001\n",
            "angulo        -0.3653      0.047     -7.754      0.000      -0.458      -0.273\n",
            "longitud     -34.6170      1.928    -17.953      0.000     -38.401     -30.833\n",
            "velocidad      0.1000      0.010     10.365      0.000       0.081       0.119\n",
            "espesor     -157.2017     18.274     -8.602      0.000    -193.060    -121.344\n",
            "==============================================================================\n",
            "Omnibus:                        9.824   Durbin-Watson:                   2.122\n",
            "Prob(Omnibus):                  0.007   Jarque-Bera (JB):               14.313\n",
            "Skew:                          -0.029   Prob(JB):                     0.000780\n",
            "Kurtosis:                       3.569   Cond. No.                     5.47e+05\n",
            "==============================================================================\n",
            "\n",
            "Notes:\n",
            "[1] Standard Errors assume that the covariance matrix of the errors is correctly specified.\n",
            "[2] The condition number is large, 5.47e+05. This might indicate that there are\n",
            "strong multicollinearity or other numerical problems.\n",
            "\n",
            "📊 Valores de p-values:\n",
            "➡️ Angulo: 2.097470663116548e-14\n",
            "➡️ Frecuencia: 1.667772903772265e-118\n",
            "➡️ Longitud: 4.981210187664223e-63\n",
            "➡️ Velocidad: 4.9630508017100675e-24\n",
            "➡️ Espesor: 2.818412435652691e-17\n"
          ]
        }
      ]
    },
    {
      "cell_type": "markdown",
      "source": [
        "Se llegó a una conclusión sobre la significancia de las variables a partir de los resultados del modelo."
      ],
      "metadata": {
        "id": "HjXZCSp_KXFI"
      }
    },
    {
      "cell_type": "markdown",
      "source": [
        "***Los resultados del análisis revelaron que todos los factores evaluados tienen una influencia estadísticamente significativa (p < 0.05) sobre la variable en estudio. Sin embargo, los coeficientes de regresión indican que el espesor y la longitud son los predictores más robustos, ejerciendo un mayor impacto en el modelo.***"
      ],
      "metadata": {
        "id": "IKINHCsqKyGH"
      }
    },
    {
      "cell_type": "markdown",
      "source": [
        "Se calculó el RSE y la 𝑅2 del modelo, tanto para los datos de entrenamiento como para los datos de validación."
      ],
      "metadata": {
        "id": "4X2qTb9WKcjF"
      }
    },
    {
      "cell_type": "code",
      "source": [
        "import numpy as np\n",
        "\n",
        "# Evaluación en el conjunto de entrenamiento\n",
        "RSE_train = np.sqrt(model.scale)\n",
        "R2_train = model.rsquared\n",
        "print(f\"📊 RSE (entrenamiento): {RSE_train:.4f}\")\n",
        "print(f\"📊 R² (entrenamiento): {R2_train:.4f}\")\n",
        "\n",
        "# Evaluación en el conjunto de validación\n",
        "y_test = test['presion']\n",
        "X_test = test.drop(columns=['presion'])\n",
        "X_test = sm.add_constant(X_test)\n",
        "\n",
        "y_pred = model.predict(X_test)\n",
        "\n",
        "RSS_test = np.sum((y_test - y_pred) ** 2)\n",
        "TSS_test = np.sum((y_test - np.mean(y_test)) ** 2)\n",
        "\n",
        "n_test, m_test = X_test.shape\n",
        "\n",
        "RSE_test = np.sqrt(RSS_test / (n_test - m_test - 1))\n",
        "R2_test = 1 - (RSS_test / TSS_test)\n",
        "\n",
        "print(f\"📊 RSE (validación): {RSE_test:.4f}\")\n",
        "print(f\"📊 R² (validación): {R2_test:.4f}\")\n"
      ],
      "metadata": {
        "colab": {
          "base_uri": "https://localhost:8080/"
        },
        "id": "t6wRJQdAKfIh",
        "outputId": "afec49dd-f625-4b99-c191-5d9de7915d7b"
      },
      "execution_count": 4,
      "outputs": [
        {
          "output_type": "stream",
          "name": "stdout",
          "text": [
            "📊 RSE (entrenamiento): 4.7914\n",
            "📊 R² (entrenamiento): 0.5214\n",
            "📊 RSE (validación): 4.9052\n",
            "📊 R² (validación): 0.4983\n"
          ]
        }
      ]
    },
    {
      "cell_type": "markdown",
      "source": [
        "Por último, se generó un scatter plot para poder visualizar mejor los datos."
      ],
      "metadata": {
        "id": "LZrVKUApKSsJ"
      }
    },
    {
      "cell_type": "code",
      "source": [
        "import matplotlib.pyplot as plt\n",
        "\n",
        "plt.scatter(y_test, y_pred, alpha=0.3, color='blue', label='Datos reales vs Estimados')\n",
        "plt.plot([min(y_test), max(y_test)], [min(y_test), max(y_test)], color='red', linestyle='--', label='Línea ideal')\n",
        "plt.xlabel('Valor real de Y')\n",
        "plt.ylabel('Valor estimado de Y')\n",
        "plt.title('Gráfica de dispersión de Y real vs Y estimado')\n",
        "plt.legend()\n",
        "plt.show()\n"
      ],
      "metadata": {
        "colab": {
          "base_uri": "https://localhost:8080/",
          "height": 472
        },
        "id": "881C9xI1KhoD",
        "outputId": "09fba70a-2e1a-4e12-88cb-4dc7f96ca59f"
      },
      "execution_count": 5,
      "outputs": [
        {
          "output_type": "display_data",
          "data": {
            "text/plain": [
              "<Figure size 640x480 with 1 Axes>"
            ],
            "image/png": "[encoded data removed]"
          },
          "metadata": {}
        }
      ]
    },
    {
      "cell_type": "markdown",
      "source": [
        "Conclusión: el análisis del modelo muestra que funciona de manera parecida tanto con los datos con los que fue entrenado como con los datos nuevos que se usaron para validarlo. Su capacidad para hacer predicciones no es muy alta, ya que el R², que mide qué tan bien el modelo explica los datos, es de 0.52 en entrenamiento y 0.50 en validación. Además, el RSE, que indica el margen de error en las predicciones, tiene valores muy cercanos en ambos casos. Esto significa que el modelo no está demasiado ajustado a los datos de entrenamiento, pero tampoco es muy preciso al hacer predicciones.\n",
        "\n"
      ],
      "metadata": {
        "id": "twl3KRj8LzUT"
      }
    }
  ]
}